{
 "cells": [
  {
   "cell_type": "markdown",
   "metadata": {},
   "source": [
    "## Reporting: wragle_report"
   ]
  },
  {
   "cell_type": "markdown",
   "source": [
    "In this project we are wrangling the tweet archive of Twitter user @dog_rates, also\n",
    "known as WeRateDogs. WeRateDogs is a Twitter account that rates people’s dogs with\n",
    "humorous comment about the dog.\n",
    "WeRateDogs has over 4 million followers and has received international media coverage.\n",
    "\n",
    "The WeRateDogs Twitter project goals included:\n",
    "+ Gathering data\n",
    "+ Assessing data\n",
    "+ Cleaning data\n",
    "+ Storing data\n",
    "+ Analyzing, and visualizing data\n",
    "+ Reporting\n",
    "    + data wrangling efforts\n",
    "    + data analyses and visualizations\n",
    "\n",
    "### Gathering Data:\n",
    "the project included gathering data from the following sources:\n",
    "+ The WeRateDogs Twitter archive. The twitter_archive_enhanced.csv file was\n",
    "provided to Udacity students. This archive contains basic tweet data\n",
    "(tweet ID, timestamp, text, etc.) for all 5000+ of their tweets as they stood on\n",
    "August 1, 2017.\n",
    "+ The tweet image predictions, i.e., what breed of dog (or another animals and objects) is present in each tweet according to a neural network.\n",
    "This file was provided\n",
    "by Udacity).\n",
    "+ Twitter API and Python's Tweepy library to gather each tweet's retweet count and\n",
    "favorite count or any other interesting information.\n",
    "\n",
    "### Assessing Data:\n",
    "Once the data was gathered, assessing the data on both quality and tidiness issues is the next step.\n",
    "#### Quality Issue:\n",
    "###### `twitter_arc hive` table\n",
    "1. Erroneous datatypes (in_reply_to_status_id, in_reply_to_user_id, retweeted_status_id, and retweeted_status_user_id, timestamp, retweeted_status_timestamp columns)\n",
    "\n",
    "2. Missing values in (in_reply_to_status_id, in_reply_to_user_id, retweeted_status_id, retweeted_status_user_id,\n",
    "name, extended_urls, timestamp, retweeted_status_timestamp) columns.\n",
    "\n",
    "3. Missing name values are represented as \"None\" (name column)\n",
    "\n",
    "4. Wrong assigned names due to the method which was used to extract them (a, actually, all, an, getting, his, incredibly, infuriating, just, life, light, mad, my, not, officially, old, one, quite, space, such, the, this, unacceptable, very) in name column\n",
    "\n",
    "5. \"O\" dog name (O'Malley)\n",
    "\n",
    "6. Wrong rating for rows with tweet ID (666287406224695296, 883482846933004288, 835246439529840640).\n",
    "\n",
    "7. The name of the dog in tweet ID 668636665813057536 is Berta.\n",
    "\n",
    "8. Duplicated url in single cell from `extended_urls` column\n",
    "\n",
    "9. Incomplete extended_url in tweet ID 802265048156610565 and 770093767776997377.\n",
    "\n",
    "10. Duplicated tweets.\n",
    "###### `tweets_jsn_df` table\n",
    "11. Missing records (30 missing).\n",
    "\n",
    "#### Tidiness issues\n",
    "1. One variable (stage) in four columns in `twitter_archive` table (puppo, floofer, doggo and pupper).\n",
    "\n",
    "2. retweet_count and favorite_count should be part of the `twitter_archive` table\n",
    "\n",
    "### Cleaning Data:\n",
    "After the assessment, it follows immediately the act of cleaning the data using:\n",
    "Define, Code and Test:\n",
    "+ converting each column type to the appropriate one.\n",
    "+ for (name, in_reply_to_status_id, in_reply_to_user_id, retweeted_status_id, retweeted_status_user_id) there is not many things we can do.\n",
    "and for extended_urls all we have to do is concatenate “https://twitter.com/dog_rates/status/” with tweet_id.\n",
    "+ replacing \"None\" values with Nan.\n",
    "+ dropping duplicates.\n",
    "+  imputing missing values with the mean in `tweets_jsn_df` table.\n",
    "+ Isolating the tweet_id in  the tweets_archive table, then joining with tweets_jsn_df.\n",
    "+ extracting the stage variable.\n",
    "\n",
    "### Storing Data\n",
    "By saving the gathered, assessed, and cleaned master dataset to a CSV file named \"twitter_archive_master.csv\"."
   ],
   "metadata": {
    "collapsed": false
   }
  }
 ],
 "metadata": {
  "kernelspec": {
   "display_name": "Python 3",
   "language": "python",
   "name": "python3"
  },
  "language_info": {
   "codemirror_mode": {
    "name": "ipython",
    "version": 3
   },
   "file_extension": ".py",
   "mimetype": "text/x-python",
   "name": "python",
   "nbconvert_exporter": "python",
   "pygments_lexer": "ipython3",
   "version": "3.6.3"
  }
 },
 "nbformat": 4,
 "nbformat_minor": 2
}
