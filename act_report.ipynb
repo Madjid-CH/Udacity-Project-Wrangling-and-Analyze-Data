{
 "cells": [
  {
   "cell_type": "markdown",
   "metadata": {},
   "source": [
    "## Report: act_report\n",
    "\n",
    "### Introduction:\n",
    "The dataset that i was wrangling (and analyzing and visualizing)\n",
    "is the tweet archive of Twitter user @dog_rates, also known as WeRateDogs. WeRateDogs is a Twitter\n",
    "account that rates people's dogs with a humorous comment about the dog.\n",
    "This project works through the data wrangling process, focusing on the gathering, assessing and cleaning\n",
    "of data. There are visualization and observation from the analysis that i conducted.\n",
    "\n",
    "### Analysis and Visualization:\n",
    "I have done several analysis in this project, and those are the following:\n",
    "\n",
    "#### histogram for favorite_count and retweet_count\n",
    "+ we see in this histogram that most Favorite Count is  between 1000 to 2000\n",
    "<img src=\"data/Favorite Count Frequency.png\" />\n",
    "\n",
    "\n",
    "\n",
    "+ and for Retweet Count it's value is around 2500 or 3000.\n",
    "<img src=\"data/Retweet Count Frequency.png\"/>\n",
    "\n",
    "#### wordcloud for most frequent words that appear in WeRateDogs posts.\n",
    "+ the most frequent words in posts not surprisingly are `dog` `pup`, `pupper`.\n",
    "\n",
    "<img height=\"800\" src=\"data/wordcloud.png\" width=\"1200\"/>\n",
    "\n",
    "\n",
    "#### most dog stage that was mentioned in the tweets:\n",
    "+ it seems that pupper is the stage that most dogs are in, then doggo, puppo and floofer.\n",
    "<img src=\"data/Stage Count.png\" />\n",
    "\n",
    "\n",
    "\n",
    "### Conclusion:\n",
    "The write-up offers a straight look at the data wrangling process. but there is a lot of insight and information i didn't cover, for example:\n",
    "+ is there a correlation between different fields of the twitter_archive ?\n",
    "+ what are the trends over time ?\n",
    "+ how the retweet and favorite counts vary over time ?\n",
    "\n",
    "and the list go on and on."
   ]
  }
 ],
 "metadata": {
  "kernelspec": {
   "display_name": "Python 3",
   "language": "python",
   "name": "python3"
  },
  "language_info": {
   "codemirror_mode": {
    "name": "ipython",
    "version": 3
   },
   "file_extension": ".py",
   "mimetype": "text/x-python",
   "name": "python",
   "nbconvert_exporter": "python",
   "pygments_lexer": "ipython3",
   "version": "3.6.3"
  }
 },
 "nbformat": 4,
 "nbformat_minor": 2
}
